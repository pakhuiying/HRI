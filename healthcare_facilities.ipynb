{
 "cells": [
  {
   "cell_type": "code",
   "execution_count": null,
   "metadata": {},
   "outputs": [],
   "source": [
    "import geopandas as gpd\n",
    "import matplotlib.pyplot as plt\n",
    "from matplotlib.lines import Line2D\n",
    "import networkx as nx\n",
    "import osmnx as ox\n",
    "import os\n",
    "from shapely.geometry import LineString\n",
    "from shapely.geometry import Point\n",
    "from shapely.geometry import Polygon\n",
    "import shapely.ops as so\n",
    "import pandas as pd\n",
    "import numpy as np\n",
    "\n",
    "import importlib"
   ]
  },
  {
   "cell_type": "code",
   "execution_count": null,
   "metadata": {},
   "outputs": [],
   "source": [
    "place = {\"city\": \"Singapore\", \"country\": \"Singapore\"}\n",
    "tags = {\"amenity\": True}\n",
    "gdf = ox.features_from_place(place, tags)"
   ]
  },
  {
   "cell_type": "code",
   "execution_count": null,
   "metadata": {},
   "outputs": [],
   "source": [
    "amenity_df = gdf[gdf['amenity'].isin(['clinic','hospital','polyclinic'])]\n",
    "amenity_df"
   ]
  },
  {
   "cell_type": "markdown",
   "metadata": {},
   "source": [
    "### export hospital/clinics to shpfile"
   ]
  },
  {
   "cell_type": "code",
   "execution_count": null,
   "metadata": {},
   "outputs": [],
   "source": [
    "amenity_df1 = amenity_df[['amenity','name']]\n",
    "amenity_df1['geometry'] = amenity_df.geometry.apply(lambda x: x.centroid)\n",
    "amenity_df1 = gpd.GeoDataFrame(amenity_df1,geometry='geometry')\n",
    "amenity_df1"
   ]
  },
  {
   "cell_type": "code",
   "execution_count": null,
   "metadata": {},
   "outputs": [],
   "source": [
    "# # save walking network\n",
    "save_dir = os.path.join(os.getcwd(),\"data\")\n",
    "print(type(amenity_df1))\n",
    "amenity_df1.to_file(os.path.join(save_dir,'SG_hospital_clinic.shp'),driver='ESRI Shapefile')"
   ]
  }
 ],
 "metadata": {
  "kernelspec": {
   "display_name": "ox",
   "language": "python",
   "name": "python3"
  },
  "language_info": {
   "name": "python",
   "version": "3.13.1"
  }
 },
 "nbformat": 4,
 "nbformat_minor": 2
}
